{
  "nbformat": 4,
  "nbformat_minor": 0,
  "metadata": {
    "colab": {
      "name": "Untitled9.ipynb",
      "provenance": [],
      "collapsed_sections": [],
      "authorship_tag": "ABX9TyPCDYbxWRC+8XMGQGrJKfQE",
      "include_colab_link": true
    },
    "kernelspec": {
      "name": "python3",
      "display_name": "Python 3"
    },
    "language_info": {
      "name": "python"
    }
  },
  "cells": [
    {
      "cell_type": "markdown",
      "metadata": {
        "id": "view-in-github",
        "colab_type": "text"
      },
      "source": [
        "<a href=\"https://colab.research.google.com/github/dewhitee/system-modelling/blob/main/Untitled9.ipynb\" target=\"_parent\"><img src=\"https://colab.research.google.com/assets/colab-badge.svg\" alt=\"Open In Colab\"/></a>"
      ]
    },
    {
      "cell_type": "code",
      "metadata": {
        "id": "ziKoClDmAQYb"
      },
      "source": [
        "from numpy import random\n",
        "import matplotlib.pyplot as plt\n"
      ],
      "execution_count": null,
      "outputs": []
    },
    {
      "cell_type": "code",
      "metadata": {
        "colab": {
          "base_uri": "https://localhost:8080/"
        },
        "id": "5t0sj4TiASJM",
        "outputId": "32aceb55-626b-4fba-9dfa-27a6177d1ba1"
      },
      "source": [
        "def interarrival():\n",
        "    return random.exponential(2.)\n",
        "\n",
        "def service():\n",
        "    #return abs(random.normal(2., 1, size=1000)) # generates negatives and this is wrong cause time can not be negative\n",
        "    tmp = random.normal(2., 1)\n",
        "    while tmp < 0:\n",
        "        tmp = random.normal(2., 1)\n",
        "    return tmp\n",
        "\n",
        "print(service())\n",
        "\n",
        "#sample = service();\n",
        "#plt.hist(sample);\n",
        "#plt.show()"
      ],
      "execution_count": null,
      "outputs": [
        {
          "output_type": "stream",
          "text": [
            "2.5678041736186854\n"
          ],
          "name": "stdout"
        }
      ]
    },
    {
      "cell_type": "code",
      "metadata": {
        "id": "5VxY1j3rAvdd"
      },
      "source": [
        "time = 0.0\n",
        "arr = interarrival()\n",
        "dep = float('inf') # initially there will be infinity\n",
        "queue = []\n",
        "timings = []\n",
        "queues = []"
      ],
      "execution_count": null,
      "outputs": []
    },
    {
      "cell_type": "code",
      "metadata": {
        "colab": {
          "base_uri": "https://localhost:8080/",
          "height": 265
        },
        "id": "h8gkhRzNB76M",
        "outputId": "a18491c1-7bb2-4c8f-deeb-79764255a250"
      },
      "source": [
        "def arrival():\n",
        "    global queue, arr, dep, time # do not write like that\n",
        "    time = arr\n",
        "    arr = time + interarrival()\n",
        "    if len(queue) == 0:\n",
        "        dep = time + service()\n",
        "\n",
        "    queue.append(0)\n",
        "    #print(round(time, 2), ': item has arrived. {} items in the system'.format(len(queue)))\n",
        "\n",
        "def departure():\n",
        "    global queue, arr, dep, time # do not write like that\n",
        "    time = dep\n",
        "    queue.pop(0)\n",
        "    if len(queue) == 0:\n",
        "        dep = float('inf')\n",
        "    else:\n",
        "        dep = time + service()\n",
        "    #print(round(time, 2), ': item has been departured. {} items in the system'.format(len(queue)))\n",
        "\n",
        "def advance_time():\n",
        "    global queue, arr, dep, time, timings, queues\n",
        "    if arr <= dep:\n",
        "        arrival()\n",
        "    else:\n",
        "        departure()\n",
        "    timings.append(time)\n",
        "    queues.append(len(queue))\n",
        "\n",
        "def simulation(end_time):\n",
        "    global time\n",
        "    while time < end_time:\n",
        "        advance_time()\n",
        "\n",
        "simulation(500)\n",
        "plt.plot(timings, queues, color='red')\n",
        "plt.grid()\n",
        "plt.show()"
      ],
      "execution_count": null,
      "outputs": [
        {
          "output_type": "display_data",
          "data": {
            "image/png": "[encoded data removed]",
            "text/plain": [
              "<Figure size 432x288 with 1 Axes>"
            ]
          },
          "metadata": {
            "tags": [],
            "needs_background": "light"
          }
        }
      ]
    },
    {
      "cell_type": "code",
      "metadata": {
        "id": "_PurBBTWC-Hj"
      },
      "source": [
        ""
      ],
      "execution_count": null,
      "outputs": []
    }
  ]
}